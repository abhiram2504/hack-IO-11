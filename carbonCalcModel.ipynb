{
 "cells": [
  {
   "cell_type": "code",
   "execution_count": 1,
   "id": "d82d2152",
   "metadata": {},
   "outputs": [],
   "source": [
    "import numpy as np\n",
    "import pandas as pd\n",
    "from sklearn.model_selection import train_test_split\n",
    "from sklearn.linear_model import LinearRegression\n",
    "from sklearn.metrics import mean_squared_error, r2_score\n"
   ]
  },
  {
   "cell_type": "code",
   "execution_count": 2,
   "id": "bf55b01b",
   "metadata": {},
   "outputs": [],
   "source": [
    "def c_emm(kWh):\n",
    "    # Calculate total emissions in pounds\n",
    "    total_emissions_lbs = kWh * 0.872\n",
    "    \n",
    "    # Convert pounds to kilograms\n",
    "    total_emissions_kg = total_emissions_lbs * 0.453592\n",
    "    \n",
    "    return total_emissions_kg"
   ]
  },
  {
   "cell_type": "code",
   "execution_count": 3,
   "id": "c259861e",
   "metadata": {},
   "outputs": [
    {
     "data": {
      "text/html": [
       "<div>\n",
       "<style scoped>\n",
       "    .dataframe tbody tr th:only-of-type {\n",
       "        vertical-align: middle;\n",
       "    }\n",
       "\n",
       "    .dataframe tbody tr th {\n",
       "        vertical-align: top;\n",
       "    }\n",
       "\n",
       "    .dataframe thead th {\n",
       "        text-align: right;\n",
       "    }\n",
       "</style>\n",
       "<table border=\"1\" class=\"dataframe\">\n",
       "  <thead>\n",
       "    <tr style=\"text-align: right;\">\n",
       "      <th></th>\n",
       "      <th>Electricity (kWh)</th>\n",
       "      <th>Waste (kg)</th>\n",
       "      <th>Carbon Emissions (kg CO2)</th>\n",
       "    </tr>\n",
       "  </thead>\n",
       "  <tbody>\n",
       "    <tr>\n",
       "      <th>0</th>\n",
       "      <td>100</td>\n",
       "      <td>50</td>\n",
       "      <td>39.553222</td>\n",
       "    </tr>\n",
       "    <tr>\n",
       "      <th>1</th>\n",
       "      <td>200</td>\n",
       "      <td>100</td>\n",
       "      <td>29.664917</td>\n",
       "    </tr>\n",
       "    <tr>\n",
       "      <th>2</th>\n",
       "      <td>300</td>\n",
       "      <td>150</td>\n",
       "      <td>39.553222</td>\n",
       "    </tr>\n",
       "    <tr>\n",
       "      <th>3</th>\n",
       "      <td>150</td>\n",
       "      <td>75</td>\n",
       "      <td>23.731933</td>\n",
       "    </tr>\n",
       "    <tr>\n",
       "      <th>4</th>\n",
       "      <td>250</td>\n",
       "      <td>125</td>\n",
       "      <td>35.597900</td>\n",
       "    </tr>\n",
       "  </tbody>\n",
       "</table>\n",
       "</div>"
      ],
      "text/plain": [
       "   Electricity (kWh)  Waste (kg)  Carbon Emissions (kg CO2)\n",
       "0                100          50                  39.553222\n",
       "1                200         100                  29.664917\n",
       "2                300         150                  39.553222\n",
       "3                150          75                  23.731933\n",
       "4                250         125                  35.597900"
      ]
     },
     "execution_count": 3,
     "metadata": {},
     "output_type": "execute_result"
    }
   ],
   "source": [
    "# Sample dataset (you can replace this with your own dataset)\n",
    "data = {\n",
    "    'Electricity (kWh)': [100, 200, 300, 150, 250],\n",
    "    'Waste (kg)': [50, 100, 150, 75, 125],\n",
    "    'Carbon Emissions (kg CO2)': [c_emm(100), c_emm(75), c_emm(100), c_emm(60), c_emm(90)]\n",
    "}\n",
    "\n",
    "# Create a DataFrame from the dataset\n",
    "df = pd.DataFrame(data)\n",
    "df"
   ]
  },
  {
   "cell_type": "code",
   "execution_count": null,
   "id": "2e90e81a",
   "metadata": {},
   "outputs": [],
   "source": []
  }
 ],
 "metadata": {
  "kernelspec": {
   "display_name": "Python 3 (ipykernel)",
   "language": "python",
   "name": "python3"
  },
  "language_info": {
   "codemirror_mode": {
    "name": "ipython",
    "version": 3
   },
   "file_extension": ".py",
   "mimetype": "text/x-python",
   "name": "python",
   "nbconvert_exporter": "python",
   "pygments_lexer": "ipython3",
   "version": "3.11.5"
  }
 },
 "nbformat": 4,
 "nbformat_minor": 5
}
